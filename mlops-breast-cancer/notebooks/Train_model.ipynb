{
 "cells": [
  {
   "cell_type": "code",
   "execution_count": 3,
   "id": "92aa7358",
   "metadata": {},
   "outputs": [
    {
     "name": "stdout",
     "output_type": "stream",
     "text": [
      "Columna 'Unnamed: 32' eliminada.\n",
      "No se encontraron columnas con varianza cero.\n",
      "Fitting 5 folds for each of 24 candidates, totalling 120 fits\n",
      "Mejores hiperparámetros: {'clf__max_depth': None, 'clf__min_samples_leaf': 1, 'clf__min_samples_split': 5, 'clf__n_estimators': 100}\n",
      "Reporte de clasificación:\n",
      "               precision    recall  f1-score   support\n",
      "\n",
      "           0       0.96      0.99      0.97        71\n",
      "           1       0.98      0.93      0.95        43\n",
      "\n",
      "    accuracy                           0.96       114\n",
      "   macro avg       0.97      0.96      0.96       114\n",
      "weighted avg       0.97      0.96      0.96       114\n",
      "\n",
      "Matriz de confusión:\n",
      " [[70  1]\n",
      " [ 3 40]]\n",
      "Modelo guardado exitosamente en '../model/breast_cancer_model.pkl'\n"
     ]
    }
   ],
   "source": [
    "import pandas as pd\n",
    "import numpy as np\n",
    "from sklearn.model_selection import train_test_split, GridSearchCV\n",
    "from sklearn.preprocessing import StandardScaler\n",
    "from sklearn.ensemble import RandomForestClassifier\n",
    "from sklearn.pipeline import Pipeline\n",
    "from sklearn.metrics import classification_report, confusion_matrix\n",
    "import joblib\n",
    "\n",
    "# Cargar dataset\n",
    "df = pd.read_csv('../data/data.csv')\n",
    "\n",
    "# Limpieza de datos\n",
    "if 'Unnamed: 32' in df.columns:\n",
    "    df = df.drop(columns=['Unnamed: 32'])\n",
    "    print(\"Columna 'Unnamed: 32' eliminada.\")\n",
    "\n",
    "varianzas = df.select_dtypes(include=[np.number]).var()\n",
    "cols_var_cero = varianzas[varianzas == 0].index.tolist()\n",
    "if cols_var_cero:\n",
    "    df = df.drop(columns=cols_var_cero)\n",
    "    print(f\"Columnas eliminadas por varianza cero: {cols_var_cero}\")\n",
    "else:\n",
    "    print(\"No se encontraron columnas con varianza cero.\")\n",
    "\n",
    "# Mapear variable objetivo a números\n",
    "df['diagnosis'] = df['diagnosis'].map({'B': 0, 'M': 1})\n",
    "\n",
    "# Separar características y target\n",
    "X = df.drop(columns=['id', 'diagnosis'])\n",
    "y = df['diagnosis']\n",
    "\n",
    "# Dividir en train y test\n",
    "X_train, X_test, y_train, y_test = train_test_split(X, y, test_size=0.2, random_state=42)\n",
    "\n",
    "# Crear pipeline con scaler y modelo\n",
    "pipeline = Pipeline([\n",
    "    ('scaler', StandardScaler()),\n",
    "    ('clf', RandomForestClassifier(random_state=42))\n",
    "])\n",
    "\n",
    "# Definir grid de hiperparámetros\n",
    "param_grid = {\n",
    "    'clf__n_estimators': [50, 100],\n",
    "    'clf__max_depth': [None, 10, 20],\n",
    "    'clf__min_samples_split': [2, 5],\n",
    "    'clf__min_samples_leaf': [1, 2]\n",
    "}\n",
    "\n",
    "# GridSearchCV\n",
    "grid_search = GridSearchCV(pipeline, param_grid, cv=5, n_jobs=-1, verbose=1)\n",
    "grid_search.fit(X_train, y_train)\n",
    "\n",
    "# Resultados\n",
    "print(f\"Mejores hiperparámetros: {grid_search.best_params_}\")\n",
    "\n",
    "y_pred = grid_search.predict(X_test)\n",
    "print(\"Reporte de clasificación:\\n\", classification_report(y_test, y_pred))\n",
    "print(\"Matriz de confusión:\\n\", confusion_matrix(y_test, y_pred))\n",
    "\n",
    "# Guardar modelo\n",
    "joblib.dump(grid_search.best_estimator_, '../model/breast_cancer_model.pkl')\n",
    "print(\"Modelo guardado exitosamente en '../model/breast_cancer_model.pkl'\")\n"
   ]
  },
  {
   "cell_type": "code",
   "execution_count": 4,
   "id": "39f300de",
   "metadata": {},
   "outputs": [
    {
     "name": "stdout",
     "output_type": "stream",
     "text": [
      "['radius_mean', 'texture_mean', 'perimeter_mean', 'area_mean', 'smoothness_mean', 'compactness_mean', 'concavity_mean', 'concave points_mean', 'symmetry_mean', 'fractal_dimension_mean', 'radius_se', 'texture_se', 'perimeter_se', 'area_se', 'smoothness_se', 'compactness_se', 'concavity_se', 'concave points_se', 'symmetry_se', 'fractal_dimension_se', 'radius_worst', 'texture_worst', 'perimeter_worst', 'area_worst', 'smoothness_worst', 'compactness_worst', 'concavity_worst', 'concave points_worst', 'symmetry_worst', 'fractal_dimension_worst']\n"
     ]
    }
   ],
   "source": [
    "print(X_train.columns.tolist())\n"
   ]
  }
 ],
 "metadata": {
  "kernelspec": {
   "display_name": "Python 3",
   "language": "python",
   "name": "python3"
  },
  "language_info": {
   "codemirror_mode": {
    "name": "ipython",
    "version": 3
   },
   "file_extension": ".py",
   "mimetype": "text/x-python",
   "name": "python",
   "nbconvert_exporter": "python",
   "pygments_lexer": "ipython3",
   "version": "3.12.9"
  }
 },
 "nbformat": 4,
 "nbformat_minor": 5
}
